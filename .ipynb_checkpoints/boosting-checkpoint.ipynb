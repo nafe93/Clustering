{
 "cells": [
  {
   "cell_type": "code",
   "execution_count": 1,
   "metadata": {},
   "outputs": [],
   "source": [
    "import warnings\n",
    "import numpy as np \n",
    "import pandas as pd\n",
    "\n",
    "import matplotlib.pyplot as plt\n",
    "import seaborn as sns\n",
    "\n",
    "from sklearn import datasets\n",
    "from sklearn.cluster import MiniBatchKMeans\n",
    "from sklearn.metrics.cluster import contingency_matrix"
   ]
  },
  {
   "cell_type": "code",
   "execution_count": 2,
   "metadata": {},
   "outputs": [],
   "source": [
    "warnings.filterwarnings('ignore')\n",
    "np.set_printoptions(suppress=True, linewidth=150, precision=2)"
   ]
  },
  {
   "cell_type": "code",
   "execution_count": 3,
   "metadata": {},
   "outputs": [],
   "source": [
    "df = pd.read_csv(\"vk.csv\")"
   ]
  },
  {
   "cell_type": "code",
   "execution_count": 4,
   "metadata": {},
   "outputs": [
    {
     "data": {
      "text/plain": [
       "Index(['ID', 'countFriends', 'countFollowers', 'boolComments',\n",
       "       'countOwnerPosts', 'countOwnerReposts', 'countPhotos', 'countVideos',\n",
       "       'countLikesPhotoes', 'sex'],\n",
       "      dtype='object')"
      ]
     },
     "execution_count": 4,
     "metadata": {},
     "output_type": "execute_result"
    }
   ],
   "source": [
    "df.columns"
   ]
  },
  {
   "cell_type": "code",
   "execution_count": 5,
   "metadata": {},
   "outputs": [],
   "source": [
    "data = np.array([df.countFriends, df.countFollowers, df.countOwnerReposts, df.countOwnerReposts, df.countPhotos, df.countVideos]).transpose()"
   ]
  },
  {
   "cell_type": "markdown",
   "metadata": {},
   "source": [
    "# Normalization"
   ]
  },
  {
   "cell_type": "code",
   "execution_count": 6,
   "metadata": {},
   "outputs": [
    {
     "data": {
      "text/plain": [
       "<matplotlib.axes._subplots.AxesSubplot at 0x130d0790>"
      ]
     },
     "execution_count": 6,
     "metadata": {},
     "output_type": "execute_result"
    },
    {
     "data": {
      "image/png": "[encoded data removed]",
      "text/plain": [
       "<Figure size 1440x432 with 1 Axes>"
      ]
     },
     "metadata": {
      "needs_background": "light"
     },
     "output_type": "display_data"
    }
   ],
   "source": [
    "x = df.countPhotos\n",
    "plt.figure(figsize=(20, 6))\n",
    "sns.distplot(x, bins=250)"
   ]
  },
  {
   "cell_type": "code",
   "execution_count": 7,
   "metadata": {},
   "outputs": [],
   "source": [
    "mean_samples = np.mean(x)\n",
    "std_samples = np.std(x)"
   ]
  },
  {
   "cell_type": "code",
   "execution_count": 8,
   "metadata": {},
   "outputs": [],
   "source": [
    "# tmp = np.random.choice(x, 10, 50)\n",
    "# tmp.shape"
   ]
  },
  {
   "cell_type": "code",
   "execution_count": 9,
   "metadata": {},
   "outputs": [],
   "source": [
    "def compute_confidence(resampled_means, resampled_stds=None):\n",
    "    \n",
    "    # pivotal method:\n",
    "    boots_mean = np.mean(resampled_means)\n",
    "    if resampled_stds is None:\n",
    "        boots_std = np.std(resampled_means)\n",
    "    else:\n",
    "        boots_std = np.std(resampled_stds)\n",
    "\n",
    "    lbp = boots_mean - 1.96*boots_std  # left bound pivotal\n",
    "    rbp = boots_mean + 1.96*boots_std  # right bound pivotal\n",
    "\n",
    "    # Non-pivotal:\n",
    "    lower_bound_index = int((len(resampled_means))*.025)\n",
    "    higher_bound_index = int((len(resampled_means))*.975)\n",
    "    resampled_mean_sorted = sorted(resampled_means,)\n",
    "\n",
    "    lbn = resampled_mean_sorted[lower_bound_index]  # left bound non pivotal\n",
    "    rbn = resampled_mean_sorted[higher_bound_index]  # right bound non pivotal\n",
    "    \n",
    "    return boots_mean, boots_std, lbp, rbp, lbn, rbn"
   ]
  },
  {
   "cell_type": "markdown",
   "metadata": {},
   "source": [
    "# Bootstrapping"
   ]
  },
  {
   "cell_type": "code",
   "execution_count": 10,
   "metadata": {},
   "outputs": [],
   "source": [
    "def bootstrapping(x, n_resample, n_bootstrap):\n",
    "    \n",
    "    \"\"\"\n",
    "        x, a 1-D array, representing the random samples.\n",
    "        n_resample, an int, representing random sampling size\n",
    "        n_bootstrap, an int, representing the number of \n",
    "        repeats in the bootstrapping procedure.\n",
    "\n",
    "        Returns x_resampled_means, x_resampled_stds, boots_mean, boots_std, lbp, rbp, lbn, rbn, where\n",
    "        x_resampled_means: list of means of resampled data(x) of the length n_resample,\n",
    "        x_resampled_stds: list of standard deviations of resampled data(x) of the length n_resample,\n",
    "        boots_mean: floating number, representing bootstrap mean --i.e mean of means)\n",
    "        boots_std: floating number, representing bootstrap std --i.e std of stds.\n",
    "\n",
    "    \"\"\"\n",
    "\n",
    "    np.random.seed(42)  # for the sake of reproducibility\n",
    "    x_resampled_means, x_resampled_stds = [], []\n",
    "\n",
    "    for _ in range(n_bootstrap):\n",
    "        x_resampled = np.random.poisson(np.random.choice(x, size=n_resample, replace=True))\n",
    "        x_resampled_means.append(np.mean(x_resampled))\n",
    "        x_resampled_stds.append(np.std(x_resampled))  # /np.sqrt(len(x)))\n",
    "\n",
    "    boots_mean, boots_std, lbp, rbp, lbn, rbn = compute_confidence(resampled_means=x_resampled_means, resampled_stds=x_resampled_stds)\n",
    "\n",
    "    return x_resampled_means, x_resampled_stds, boots_mean, boots_std, lbp, rbp, lbn, rbn"
   ]
  },
  {
   "cell_type": "code",
   "execution_count": 11,
   "metadata": {},
   "outputs": [
    {
     "data": {
      "image/png": "[encoded data removed]",
      "text/plain": [
       "<Figure size 432x288 with 1 Axes>"
      ]
     },
     "metadata": {
      "needs_background": "light"
     },
     "output_type": "display_data"
    }
   ],
   "source": [
    "n_resample = 150\n",
    "n_bootstrap = 5000\n",
    "\n",
    "x_resampled_means, x_resampled_stds, x_boots_mean, \\\n",
    "x_boots_std, x_lbp, x_rbp, x_lbn, x_rbn = bootstrapping(x=x, n_resample=n_resample, n_bootstrap=n_bootstrap)\n",
    "\n",
    "plt.hist(x_resampled_means, bins=50)\n",
    "plt.title(\"Histogram of Means of Resampled Data\")\n",
    "plt.show()"
   ]
  },
  {
   "cell_type": "markdown",
   "metadata": {},
   "source": [
    "# Comparison"
   ]
  },
  {
   "cell_type": "code",
   "execution_count": 12,
   "metadata": {},
   "outputs": [
    {
     "name": "stdout",
     "output_type": "stream",
     "text": [
      "Samples Mean          : 16.6924  Samples Std             : 28.6555\n",
      "Bootstrap Mean        : 16.7202  Bootstrap Std           : 6.1084\n",
      " \n",
      "Left Bound-Pivotal    : 4.7477  Right Bound-Pivotal     : 28.6927\n",
      "Left Bound-Non Pivotal: 12.5533  Right Bound-Non Pivotal : 21.7133\n"
     ]
    }
   ],
   "source": [
    "print(\"Samples Mean          : %.4f\" % mean_samples, \" Samples Std             : %.4f\" % std_samples)\n",
    "print(\"Bootstrap Mean        : %.4f\" % x_boots_mean, \" Bootstrap Std           : %.4f\" % x_boots_std)\n",
    "print(\" \")\n",
    "print(\"Left Bound-Pivotal    : %.4f\" % x_lbp, \" Right Bound-Pivotal     : %.4f\" % x_rbp)\n",
    "print(\"Left Bound-Non Pivotal: %.4f\" % x_lbn, \" Right Bound-Non Pivotal : %.4f\" % x_rbn)"
   ]
  },
  {
   "cell_type": "markdown",
   "metadata": {},
   "source": [
    "conslusion:\n",
    "\n",
    "As one can see the original sample means lies between the left and right boundries both in pivotal and not pivotal methods."
   ]
  },
  {
   "cell_type": "markdown",
   "metadata": {},
   "source": [
    "# Clustering"
   ]
  },
  {
   "cell_type": "markdown",
   "metadata": {},
   "source": [
    "### data normalization"
   ]
  },
  {
   "cell_type": "code",
   "execution_count": 13,
   "metadata": {},
   "outputs": [
    {
     "name": "stdout",
     "output_type": "stream",
     "text": [
      "[1459.55  807.1     6.15    6.15   16.69  361.58]\n"
     ]
    }
   ],
   "source": [
    "mean = np.mean(data, axis=0) # mean\n",
    "rng = np.ptp(data, axis=0)  # range \n",
    "Y = np.divide(np.subtract(data, mean), rng) # normilizad\n",
    "Y.shape\n",
    "print(mean)"
   ]
  },
  {
   "cell_type": "markdown",
   "metadata": {},
   "source": [
    "### Apply Minibatch clustering Algorithm"
   ]
  },
  {
   "cell_type": "code",
   "execution_count": 14,
   "metadata": {},
   "outputs": [
    {
     "data": {
      "text/plain": [
       "5"
      ]
     },
     "execution_count": 14,
     "metadata": {},
     "output_type": "execute_result"
    }
   ],
   "source": [
    "batch_size = 10\n",
    "n_repeats = 10\n",
    "centers = np.array([Y[1, :], Y[31, :], Y[52, :], Y[82,:], Y[111, :]])\n",
    "n_clusters = len(centers)\n",
    "n_clusters"
   ]
  },
  {
   "cell_type": "markdown",
   "metadata": {},
   "source": [
    "### Applying K-means (MiniBatch)"
   ]
  },
  {
   "cell_type": "code",
   "execution_count": 15,
   "metadata": {},
   "outputs": [],
   "source": [
    "np.random.seed(42)\n",
    "tmp = 0\n",
    "clusters = {}\n",
    "idxs = {}\n",
    "cluster_means = {}\n",
    "differences = {}\n",
    "\n",
    "for i in range(n_repeats):\n",
    "    mbk = MiniBatchKMeans(n_clusters=n_clusters, batch_size=batch_size, init=centers, n_init=1, )\n",
    "    mbk.fit(Y)  # Compute K-mean\n",
    "    ms = mbk.labels_\n",
    "    \n",
    "    # to chose the best clustering results regarding the inertia\n",
    "    if i == 0 :\n",
    "        tmp = mbk.inertia_\n",
    "        delta = 0\n",
    "    if i != 0:\n",
    "        delta = tmp - mbk.inertia_\n",
    "    if delta >= 0:\n",
    "        tmp = mbk.inertia_\n",
    "        \n",
    "        for k in range(n_clusters):\n",
    "            clusters[k] = data[np.where(ms==k)]\n",
    "            idxs[k] = np.where(ms==k)[0]\n",
    "        for k in range(n_clusters):\n",
    "            cluster_means[k] = np.mean(clusters[k], axis=0)\n",
    "            differences[k] = 100*(np.divide(np.subtract(cluster_means[k], mean), mean))"
   ]
  },
  {
   "cell_type": "code",
   "execution_count": 16,
   "metadata": {},
   "outputs": [
    {
     "data": {
      "text/plain": [
       "{0: array([1198.55,  438.72,   11.24,   11.24,   18.99,  367.84]),\n",
       " 1: array([1507.98,  447.03,   17.86,   17.86,   15.8 ,  421.17]),\n",
       " 2: array([666.75, 434.98,   6.08,   6.08,  24.7 , 477.24]),\n",
       " 3: array([672.11, 419.97,   0.85,   0.85,  11.41, 279.23]),\n",
       " 4: array([7018.02, 4604.94,    1.78,    1.78,   25.24,  423.78])}"
      ]
     },
     "execution_count": 16,
     "metadata": {},
     "output_type": "execute_result"
    }
   ],
   "source": [
    "cluster_means"
   ]
  },
  {
   "cell_type": "code",
   "execution_count": 17,
   "metadata": {},
   "outputs": [
    {
     "data": {
      "text/plain": [
       "{0: array([-17.88, -45.64,  82.87,  82.87,  13.78,   1.73]),\n",
       " 1: array([  3.32, -44.61, 190.61, 190.61,  -5.37,  16.48]),\n",
       " 2: array([-54.32, -46.11,  -1.1 ,  -1.1 ,  47.95,  31.99]),\n",
       " 3: array([-53.95, -47.97, -86.22, -86.22, -31.66, -22.77]),\n",
       " 4: array([380.83, 470.56, -71.08, -71.08,  51.23,  17.2 ])}"
      ]
     },
     "execution_count": 17,
     "metadata": {},
     "output_type": "execute_result"
    }
   ],
   "source": [
    "differences"
   ]
  },
  {
   "cell_type": "code",
   "execution_count": 18,
   "metadata": {},
   "outputs": [],
   "source": [
    "c1_resampled_means, c1_resampled_stds, c1_boots_mean, \\\n",
    "c1_boots_std, c1_lbp, c1_rbp, c1_lbn, c1_rbn = bootstrapping(x=x[idxs[0]], n_resample=n_resample, n_bootstrap=n_bootstrap)"
   ]
  },
  {
   "cell_type": "code",
   "execution_count": 19,
   "metadata": {},
   "outputs": [],
   "source": [
    "c2_resampled_means, c2_resampled_stds, c2_boots_mean, \\\n",
    "c2_boots_std, c2_lbp, c2_rbp, c2_lbn, c2_rbn = bootstrapping(x=x[idxs[4]], n_resample=n_resample, n_bootstrap=n_bootstrap)"
   ]
  },
  {
   "cell_type": "code",
   "execution_count": 20,
   "metadata": {},
   "outputs": [],
   "source": [
    "d12 = np.subtract(np.asarray(c1_resampled_means), np.asarray(c2_resampled_means))  # Difference between 1st and 2nd cluster\n",
    "d1x = np.subtract(np.asarray(c1_resampled_means), np.asarray(x_resampled_means))  # Difference between 1st and x\n",
    "d2x = np.subtract(np.asarray(c2_resampled_means), np.asarray(x_resampled_means))  # Difference between 1st and x"
   ]
  },
  {
   "cell_type": "code",
   "execution_count": 21,
   "metadata": {},
   "outputs": [
    {
     "data": {
      "image/png": "[encoded data removed]",
      "text/plain": [
       "<Figure size 1404x684 with 5 Axes>"
      ]
     },
     "metadata": {
      "needs_background": "light"
     },
     "output_type": "display_data"
    }
   ],
   "source": [
    "fig = plt.figure(figsize=(19.5, 9.5))\n",
    "\n",
    "ax = fig.add_subplot(151)\n",
    "plt.hist(x, bins=20)\n",
    "plt.title(\"Ramdom Samples\")\n",
    "\n",
    "\n",
    "ax = fig.add_subplot(152)\n",
    "plt.hist(x_resampled_means, bins=50)\n",
    "plt.title(\"Means of Resampled\")\n",
    "\n",
    "ax = fig.add_subplot(153)\n",
    "plt.hist(c1_resampled_means, bins=50)\n",
    "plt.title(\"Means of Resampled of 1st Cluster \")\n",
    "\n",
    "ax = fig.add_subplot(154)\n",
    "plt.hist(c2_resampled_means, bins=50)\n",
    "plt.title(\"Means of Resampled of 2nd Cluster \")\n",
    "\n",
    "ax = fig.add_subplot(155)\n",
    "plt.hist(d12, bins=50)\n",
    "plt.title(\"c1_rs_means - c2_rs_means\")  # rs stands for resampled data\n",
    "plt.show()"
   ]
  },
  {
   "cell_type": "code",
   "execution_count": 22,
   "metadata": {},
   "outputs": [
    {
     "data": {
      "image/png": "[encoded data removed]",
      "text/plain": [
       "<Figure size 1404x684 with 4 Axes>"
      ]
     },
     "metadata": {
      "needs_background": "light"
     },
     "output_type": "display_data"
    }
   ],
   "source": [
    "fig = plt.figure(figsize=(19.5, 9.5))\n",
    "\n",
    "ax = fig.add_subplot(141)\n",
    "plt.hist(x, bins=20)\n",
    "plt.title(\"Ramdom Samples\")\n",
    "\n",
    "ax = fig.add_subplot(142)\n",
    "plt.hist(x_resampled_means, bins=50)\n",
    "plt.title(\"Means of Resampled\")\n",
    "\n",
    "# ax = fig.add_subplot(153)\n",
    "# plt.hist(c1_resampled_means, bins=50)\n",
    "# plt.title(\"Means of Resampled of 1st Cluster \")\n",
    "\n",
    "ax = fig.add_subplot(143)\n",
    "plt.hist(d2x, bins=50)\n",
    "plt.title(\"c2_rs_means - x_rs_means\")  # rs stands for resampled data\n",
    "\n",
    "ax = fig.add_subplot(144)\n",
    "plt.hist(d1x, bins=50)\n",
    "plt.title(\"c1_rs_means - x_rs_means\")  # rs stands for resampled data\n",
    "plt.show()\n"
   ]
  },
  {
   "cell_type": "code",
   "execution_count": null,
   "metadata": {},
   "outputs": [],
   "source": []
  }
 ],
 "metadata": {
  "kernelspec": {
   "display_name": "Python 3",
   "language": "python",
   "name": "python3"
  },
  "language_info": {
   "codemirror_mode": {
    "name": "ipython",
    "version": 3
   },
   "file_extension": ".py",
   "mimetype": "text/x-python",
   "name": "python",
   "nbconvert_exporter": "python",
   "pygments_lexer": "ipython3",
   "version": "3.7.3"
  }
 },
 "nbformat": 4,
 "nbformat_minor": 2
}
