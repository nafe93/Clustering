{
 "cells": [
  {
   "cell_type": "markdown",
   "metadata": {},
   "source": [
    "# Home"
   ]
  },
  {
   "cell_type": "code",
   "execution_count": 1,
   "metadata": {},
   "outputs": [],
   "source": [
    "import warnings\n",
    "import numpy as np \n",
    "import pandas as pd\n",
    "from sklearn import datasets\n",
    "from sklearn.cluster import MiniBatchKMeans\n",
    "from sklearn.metrics.cluster import contingency_matrix"
   ]
  },
  {
   "cell_type": "code",
   "execution_count": 2,
   "metadata": {},
   "outputs": [],
   "source": [
    "warnings.filterwarnings('ignore')\n",
    "np.set_printoptions(suppress=True, linewidth=150, precision=2)"
   ]
  },
  {
   "cell_type": "code",
   "execution_count": 3,
   "metadata": {},
   "outputs": [],
   "source": [
    "df = pd.read_csv(\"vk.csv\")"
   ]
  },
  {
   "cell_type": "code",
   "execution_count": 4,
   "metadata": {},
   "outputs": [
    {
     "data": {
      "text/plain": [
       "Index(['ID', 'countFriends', 'countFollowers', 'boolComments',\n",
       "       'countOwnerPosts', 'countOwnerReposts', 'countPhotos', 'countVideos',\n",
       "       'countLikesPhotoes', 'sex'],\n",
       "      dtype='object')"
      ]
     },
     "execution_count": 4,
     "metadata": {},
     "output_type": "execute_result"
    }
   ],
   "source": [
    "df.columns"
   ]
  },
  {
   "cell_type": "code",
   "execution_count": 5,
   "metadata": {},
   "outputs": [],
   "source": [
    "X = np.array([df.countFriends, df.countFollowers, df.countOwnerReposts, df.countOwnerReposts, df.countPhotos, df.countVideos]).transpose()\n",
    "y = np.array(df.sex)"
   ]
  },
  {
   "cell_type": "markdown",
   "metadata": {},
   "source": [
    "# Normalization"
   ]
  },
  {
   "cell_type": "code",
   "execution_count": 16,
   "metadata": {},
   "outputs": [
    {
     "name": "stdout",
     "output_type": "stream",
     "text": [
      "mean:[1459.55  807.1     6.15    6.15   16.69  361.58]\n",
      "range: [ 9996 57037    20    20   275  7719]\n",
      "Y: [[-0.14 -0.01  0.14  0.14 -0.05 -0.04]\n",
      " [-0.13 -0.01  0.39  0.39 -0.03 -0.04]\n",
      " [-0.11 -0.   -0.31 -0.31  0.08 -0.04]\n",
      " ...\n",
      " [-0.14 -0.01 -0.16 -0.16 -0.05 -0.02]\n",
      " [ 0.1  -0.01 -0.31 -0.31 -0.06 -0.05]\n",
      " [-0.14 -0.01 -0.11 -0.11 -0.05 -0.03]]\n"
     ]
    }
   ],
   "source": [
    "# Where axis 0 columns and 1 rows\n",
    "me = np.mean(X, axis=0) # mean \n",
    "ra = np.ptp(X, axis=0)  # max - min # range \n",
    "Y = np.divide(np.subtract(X, me), ra) # normilizad\n",
    "print(f\"mean:{me}\")\n",
    "print(f\"range: {ra}\")\n",
    "print(f\"Y: {Y}\")"
   ]
  },
  {
   "cell_type": "code",
   "execution_count": 7,
   "metadata": {},
   "outputs": [
    {
     "data": {
      "text/plain": [
       "2"
      ]
     },
     "execution_count": 7,
     "metadata": {},
     "output_type": "execute_result"
    }
   ],
   "source": [
    "batch_size = 10\n",
    "centers = np.array([Y[1, :], Y[52,:]]) # Выюираем рандом\n",
    "n_clusters = len(centers)\n",
    "n_clusters"
   ]
  },
  {
   "cell_type": "markdown",
   "metadata": {},
   "source": [
    "# Apply K-Means (batch)"
   ]
  },
  {
   "cell_type": "markdown",
   "metadata": {},
   "source": [
    "К = 5\n",
    "\n",
    "К = 9"
   ]
  },
  {
   "cell_type": "code",
   "execution_count": 8,
   "metadata": {},
   "outputs": [
    {
     "name": "stdout",
     "output_type": "stream",
     "text": [
      "delta1: [  3.09 -41.75 137.23 137.23   9.32  14.29] #element: 322\n",
      "delta2: [ -1.47  19.89 -65.37 -65.37  -4.44  -6.81] #element: 676\n",
      "delta3: [nan nan nan nan nan nan] #element: 0\n",
      "inertia: 118.73563366321248\n",
      "[[124 287]\n",
      " [198 389]]\n",
      " \n",
      "delta1: [ -2.19 -42.91 127.28 127.28  11.11  10.93] #element: 355\n",
      "delta2: [  1.21  23.69 -70.27 -70.27  -6.13  -6.04] #element: 643\n",
      "delta3: [nan nan nan nan nan nan] #element: 0\n",
      "inertia: 118.37173804757661\n",
      "[[140 271]\n",
      " [215 372]]\n",
      " \n",
      "delta1: [ -3.49 -42.53 138.92 138.92  10.57  15.04] #element: 317\n",
      "delta2: [  1.62  19.8  -64.66 -64.66  -4.92  -7.  ] #element: 681\n",
      "delta3: [nan nan nan nan nan nan] #element: 0\n",
      "inertia: 117.45342228152116\n",
      "[[123 288]\n",
      " [194 393]]\n",
      " \n",
      "delta1: [ -5.41 -43.93 127.83 127.83  11.57  11.11] #element: 353\n",
      "delta2: [  2.96  24.04 -69.96 -69.96  -6.33  -6.08] #element: 645\n",
      "delta3: [nan nan nan nan nan nan] #element: 0\n",
      "inertia: 118.84516910868788\n",
      "[[140 271]\n",
      " [213 374]]\n",
      " \n",
      "delta1: [ -3.49 -42.53 138.92 138.92  10.57  15.04] #element: 317\n",
      "delta2: [  1.62  19.8  -64.66 -64.66  -4.92  -7.  ] #element: 681\n",
      "delta3: [nan nan nan nan nan nan] #element: 0\n",
      "inertia: 118.12985327915857\n",
      "[[123 288]\n",
      " [194 393]]\n",
      " \n"
     ]
    }
   ],
   "source": [
    "for i in range(5):\n",
    "    \n",
    "    mbk = MiniBatchKMeans(n_clusters=n_clusters, batch_size=batch_size, init=centers)\n",
    "    mbk.fit(Y)  # Compute K-mean\n",
    "    ms = mbk.labels_\n",
    "    \n",
    "    cluster1 = X[np.where(ms==0)]\n",
    "    cluster2 = X[np.where(ms==1)]\n",
    "    cluster3 = X[np.where(ms==2)]\n",
    "    \n",
    "    mc1 = np.mean(cluster1, axis=0)\n",
    "    mc2 = np.mean(cluster2, axis=0)\n",
    "    mc3 = np.mean(cluster3, axis=0)\n",
    "    \n",
    "    #center of class normalize\n",
    "    d1 = 100*(np.divide(np.subtract(mc1, me), me))\n",
    "    d2 = 100*(np.divide(np.subtract(mc2, me), me))\n",
    "    d3 = 100*(np.divide(np.subtract(mc3, me), me))\n",
    "    \n",
    "    \n",
    "    print(\"delta1:\", d1, \"#element:\", cluster1.shape[0]) \n",
    "    print(\"delta2:\", d2, \"#element:\", cluster2.shape[0])\n",
    "    print(\"delta3:\", d3, \"#element:\", cluster3.shape[0]) \n",
    "    print(\"inertia:\", mbk.inertia_) # сумма квадратных ошибок чем меньше чем лучше\n",
    "    cont_tb = contingency_matrix(labels_true=y, labels_pred=ms) #Как на самом деле (строки) и как мой алгоритм (столбцы) \n",
    "    print(cont_tb)\n",
    "    \n",
    "    print(\" \")"
   ]
  },
  {
   "cell_type": "code",
   "execution_count": 9,
   "metadata": {},
   "outputs": [
    {
     "name": "stdout",
     "output_type": "stream",
     "text": [
      "delta1: [ -3.49 -42.53 138.92 138.92  10.57  15.04] #element: 317\n",
      "delta2: [  1.62  19.8  -64.66 -64.66  -4.92  -7.  ] #element: 681\n",
      "delta3: [nan nan nan nan nan nan] #element: 0\n",
      "inertia: 117.58776481310824\n",
      "[[123 288]\n",
      " [194 393]]\n",
      "center: \n",
      "[[ 0.   -0.01  0.44  0.44  0.02  0.01]\n",
      " [ 0.    0.   -0.2  -0.2   0.   -0.  ]]\n",
      "\n",
      " \n",
      "delta1: [ -5.46 -43.83 128.1  128.1    9.31  11.42] #element: 352\n",
      "delta2: [  2.98  23.88 -69.8  -69.8   -5.08  -6.22] #element: 646\n",
      "delta3: [nan nan nan nan nan nan] #element: 0\n",
      "inertia: 119.33390869978231\n",
      "[[140 271]\n",
      " [212 375]]\n",
      "center: \n",
      "[[-0.03 -0.01  0.4   0.4  -0.01  0.01]\n",
      " [-0.03 -0.   -0.22 -0.22  0.   -0.01]]\n",
      "\n",
      " \n",
      "delta1: [ -2.19 -42.91 127.28 127.28  11.11  10.93] #element: 355\n",
      "delta2: [  1.21  23.69 -70.27 -70.27  -6.13  -6.04] #element: 643\n",
      "delta3: [nan nan nan nan nan nan] #element: 0\n",
      "inertia: 118.56802406650945\n",
      "[[140 271]\n",
      " [215 372]]\n",
      "center: \n",
      "[[ 0.01 -0.    0.38  0.38  0.    0.01]\n",
      " [ 0.02  0.   -0.22 -0.22 -0.    0.  ]]\n",
      "\n",
      " \n",
      "delta1: [ -3.49 -42.53 138.92 138.92  10.57  15.04] #element: 317\n",
      "delta2: [  1.62  19.8  -64.66 -64.66  -4.92  -7.  ] #element: 681\n",
      "delta3: [nan nan nan nan nan nan] #element: 0\n",
      "inertia: 118.0884038249202\n",
      "[[123 288]\n",
      " [194 393]]\n",
      "center: \n",
      "[[-0.04 -0.01  0.43  0.43  0.01  0.  ]\n",
      " [-0.    0.   -0.2  -0.2   0.    0.02]]\n",
      "\n",
      " \n",
      "delta1: [ -3.49 -42.53 138.92 138.92  10.57  15.04] #element: 317\n",
      "delta2: [  1.62  19.8  -64.66 -64.66  -4.92  -7.  ] #element: 681\n",
      "delta3: [nan nan nan nan nan nan] #element: 0\n",
      "inertia: 117.91842223672607\n",
      "[[123 288]\n",
      " [194 393]]\n",
      "center: \n",
      "[[ 0.01 -0.01  0.43  0.43  0.01  0.  ]\n",
      " [-0.01 -0.   -0.21 -0.21  0.01  0.  ]]\n",
      "\n",
      " \n",
      "delta1: [ -1.92 -41.7  150.03 150.03   2.92  14.52] #element: 283\n",
      "delta2: [  0.76  16.5  -59.38 -59.38  -1.16  -5.75] #element: 715\n",
      "delta3: [nan nan nan nan nan nan] #element: 0\n",
      "inertia: 121.00561802386034\n",
      "[[111 300]\n",
      " [172 415]]\n",
      "center: \n",
      "[[-0.01 -0.    0.51  0.51 -0.01 -0.  ]\n",
      " [ 0.01  0.02 -0.17 -0.17  0.   -0.01]]\n",
      "\n",
      " \n",
      "delta1: [ -3.49 -42.53 138.92 138.92  10.57  15.04] #element: 317\n",
      "delta2: [  1.62  19.8  -64.66 -64.66  -4.92  -7.  ] #element: 681\n",
      "delta3: [nan nan nan nan nan nan] #element: 0\n",
      "inertia: 119.28567079265194\n",
      "[[123 288]\n",
      " [194 393]]\n",
      "center: \n",
      "[[-0.01 -0.01  0.38  0.38  0.   -0.01]\n",
      " [-0.01  0.01 -0.19 -0.19  0.01  0.01]]\n",
      "\n",
      " \n",
      "delta1: [ -3.49 -42.53 138.92 138.92  10.57  15.04] #element: 317\n",
      "delta2: [  1.62  19.8  -64.66 -64.66  -4.92  -7.  ] #element: 681\n",
      "delta3: [nan nan nan nan nan nan] #element: 0\n",
      "inertia: 117.88504624508197\n",
      "[[123 288]\n",
      " [194 393]]\n",
      "center: \n",
      "[[-0.01 -0.01  0.43  0.43  0.01 -0.01]\n",
      " [ 0.01  0.   -0.19 -0.19 -0.01 -0.01]]\n",
      "\n",
      " \n",
      "delta1: [  3.64 -41.55 136.9  136.9    9.5   14.  ] #element: 323\n",
      "delta2: [ -1.74  19.88 -65.51 -65.51  -4.55  -6.7 ] #element: 675\n",
      "delta3: [nan nan nan nan nan nan] #element: 0\n",
      "inertia: 119.29685351965315\n",
      "[[124 287]\n",
      " [199 388]]\n",
      "center: \n",
      "[[ 0.06 -0.    0.41  0.41 -0.01  0.  ]\n",
      " [ 0.02  0.01 -0.22 -0.22  0.01 -0.01]]\n",
      "\n",
      " \n"
     ]
    }
   ],
   "source": [
    "for i in range(9):\n",
    "    \n",
    "    mbk = MiniBatchKMeans(n_clusters=n_clusters, batch_size=batch_size, init=centers)\n",
    "    mbk.fit(Y)  # Compute K-mean\n",
    "    ms = mbk.labels_\n",
    "    centers = mbk.cluster_centers_\n",
    "    \n",
    "    cluster1 = X[np.where(ms==0)]\n",
    "    cluster2 = X[np.where(ms==1)]\n",
    "    cluster3 = X[np.where(ms==2)]\n",
    "    \n",
    "    mc1 = np.mean(cluster1, axis=0)\n",
    "    mc2 = np.mean(cluster2, axis=0)\n",
    "    mc3 = np.mean(cluster3, axis=0)\n",
    "    \n",
    "    #center of class normalize\n",
    "    d1 = 100*(np.divide(np.subtract(mc1, me), me))\n",
    "    d2 = 100*(np.divide(np.subtract(mc2, me), me))\n",
    "    d3 = 100*(np.divide(np.subtract(mc3, me), me))\n",
    "    \n",
    "    \n",
    "    print(\"delta1:\", d1, \"#element:\", cluster1.shape[0]) \n",
    "    print(\"delta2:\", d2, \"#element:\", cluster2.shape[0])\n",
    "    print(\"delta3:\", d3, \"#element:\", cluster3.shape[0]) \n",
    "    print(\"inertia:\", mbk.inertia_) # сумма квадратных ошибок чем меньше чем лучше\n",
    "    cont_tb = contingency_matrix(labels_true=y, labels_pred=ms) #Как на самом деле (строки) и как мой алгоритм (столбцы) \n",
    "    print(cont_tb)\n",
    "    print(f\"center: \\n{centers}\")\n",
    "    print()\n",
    "    \n",
    "    print(\" \")"
   ]
  },
  {
   "cell_type": "code",
   "execution_count": 33,
   "metadata": {},
   "outputs": [
    {
     "data": {
      "text/plain": [
       "array([9, 7, 3, 5])"
      ]
     },
     "execution_count": 33,
     "metadata": {},
     "output_type": "execute_result"
    }
   ],
   "source": [
    "np.ptp([\n",
    "        [1, 8, 6, 4],\n",
    "        [10, 1, 3, 7],\n",
    "        [2, 2, 3, 2],\n",
    "            [2, 2, 3, 2],\n",
    "            [2, 2, 3, 2],\n",
    "            [2, 2, 3, 2],\n",
    "            [2, 2, 3, 2],\n",
    "       ], axis = 0)"
   ]
  },
  {
   "cell_type": "code",
   "execution_count": 34,
   "metadata": {},
   "outputs": [],
   "source": [
    "import cv2 "
   ]
  },
  {
   "cell_type": "code",
   "execution_count": null,
   "metadata": {},
   "outputs": [],
   "source": []
  }
 ],
 "metadata": {
  "kernelspec": {
   "display_name": "Python 3",
   "language": "python",
   "name": "python3"
  },
  "language_info": {
   "codemirror_mode": {
    "name": "ipython",
    "version": 3
   },
   "file_extension": ".py",
   "mimetype": "text/x-python",
   "name": "python",
   "nbconvert_exporter": "python",
   "pygments_lexer": "ipython3",
   "version": "3.7.3"
  }
 },
 "nbformat": 4,
 "nbformat_minor": 2
}
