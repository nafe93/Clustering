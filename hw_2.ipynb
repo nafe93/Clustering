{
 "cells": [
  {
   "cell_type": "markdown",
   "metadata": {},
   "source": [
    "# Home"
   ]
  },
  {
   "cell_type": "code",
   "execution_count": 1,
   "metadata": {},
   "outputs": [],
   "source": [
    "import warnings\n",
    "import numpy as np \n",
    "import pandas as pd\n",
    "from sklearn import datasets\n",
    "from sklearn.cluster import MiniBatchKMeans\n",
    "from sklearn.metrics.cluster import contingency_matrix"
   ]
  },
  {
   "cell_type": "code",
   "execution_count": 2,
   "metadata": {},
   "outputs": [],
   "source": [
    "warnings.filterwarnings('ignore')\n",
    "np.set_printoptions(suppress=True, linewidth=150, precision=2)"
   ]
  },
  {
   "cell_type": "code",
   "execution_count": 3,
   "metadata": {},
   "outputs": [],
   "source": [
    "df = pd.read_csv(\"vk.csv\")"
   ]
  },
  {
   "cell_type": "code",
   "execution_count": 4,
   "metadata": {},
   "outputs": [
    {
     "data": {
      "text/plain": [
       "Index(['ID', 'countFriends', 'countFollowers', 'boolComments',\n",
       "       'countOwnerPosts', 'countOwnerReposts', 'countPhotos', 'countVideos',\n",
       "       'countLikesPhotoes', 'sex'],\n",
       "      dtype='object')"
      ]
     },
     "execution_count": 4,
     "metadata": {},
     "output_type": "execute_result"
    }
   ],
   "source": [
    "df.columns"
   ]
  },
  {
   "cell_type": "code",
   "execution_count": 5,
   "metadata": {},
   "outputs": [],
   "source": [
    "X = np.array([df.countFriends, df.countFollowers, df.countOwnerReposts, df.countOwnerReposts, df.countPhotos, df.countVideos]).transpose()\n",
    "y = np.array(df.sex)"
   ]
  },
  {
   "cell_type": "markdown",
   "metadata": {},
   "source": [
    "# Normalization"
   ]
  },
  {
   "cell_type": "code",
   "execution_count": 6,
   "metadata": {},
   "outputs": [
    {
     "data": {
      "text/plain": [
       "(998, 6)"
      ]
     },
     "execution_count": 6,
     "metadata": {},
     "output_type": "execute_result"
    }
   ],
   "source": [
    "# Where axis 0 columns and 1 rows\n",
    "me = np.mean(X, axis=0) # mean \n",
    "ra = np.ptp(X, axis=0)  # range \n",
    "Y = np.divide(np.subtract(X, me), ra) # normilizad\n",
    "Y.shape"
   ]
  },
  {
   "cell_type": "code",
   "execution_count": 7,
   "metadata": {},
   "outputs": [
    {
     "data": {
      "text/plain": [
       "2"
      ]
     },
     "execution_count": 7,
     "metadata": {},
     "output_type": "execute_result"
    }
   ],
   "source": [
    "batch_size = 10\n",
    "centers = np.array([Y[1, :], Y[52,:]]) # Выюираем рандом\n",
    "n_clusters = len(centers)\n",
    "n_clusters"
   ]
  },
  {
   "cell_type": "markdown",
   "metadata": {},
   "source": [
    "# Apply K-Means (batch)"
   ]
  },
  {
   "cell_type": "markdown",
   "metadata": {},
   "source": [
    "К = 5\n",
    "\n",
    "К = 9"
   ]
  },
  {
   "cell_type": "code",
   "execution_count": 8,
   "metadata": {},
   "outputs": [
    {
     "name": "stdout",
     "output_type": "stream",
     "text": [
      "delta1: [ -3.49 -42.53 138.92 138.92  10.57  15.04] #element: 317\n",
      "delta2: [  1.62  19.8  -64.66 -64.66  -4.92  -7.  ] #element: 681\n",
      "delta3: [nan nan nan nan nan nan] #element: 0\n",
      "inertia: 117.80346282351572\n",
      "[[123 288]\n",
      " [194 393]]\n",
      " \n",
      "delta1: [ -4.38 -42.64 139.21 139.21   6.41  15.39] #element: 316\n",
      "delta2: [  2.03  19.76 -64.5  -64.5   -2.97  -7.13] #element: 682\n",
      "delta3: [nan nan nan nan nan nan] #element: 0\n",
      "inertia: 118.42685598514242\n",
      "[[123 288]\n",
      " [193 394]]\n",
      " \n",
      "delta1: [ -3.43 -42.66 138.58 138.58  13.07  14.68] #element: 318\n",
      "delta2: [  1.61  19.95 -64.8  -64.8   -6.11  -6.86] #element: 680\n",
      "delta3: [nan nan nan nan nan nan] #element: 0\n",
      "inertia: 118.22005239869996\n",
      "[[123 288]\n",
      " [195 392]]\n",
      " \n",
      "delta1: [ -6.85 -42.41 140.1  140.1    7.2   14.99] #element: 313\n",
      "delta2: [  3.13  19.38 -64.02 -64.02  -3.29  -6.85] #element: 685\n",
      "delta3: [nan nan nan nan nan nan] #element: 0\n",
      "inertia: 119.05297759155808\n",
      "[[123 288]\n",
      " [190 397]]\n",
      " \n",
      "delta1: [ -7.29 -43.14 142.24 142.24   0.08  14.45] #element: 306\n",
      "delta2: [  3.22  19.07 -62.9  -62.9   -0.04  -6.39] #element: 692\n",
      "delta3: [nan nan nan nan nan nan] #element: 0\n",
      "inertia: 120.53919659227275\n",
      "[[120 291]\n",
      " [186 401]]\n",
      " \n"
     ]
    }
   ],
   "source": [
    "for i in range(5):\n",
    "    \n",
    "    mbk = MiniBatchKMeans(n_clusters=n_clusters, batch_size=batch_size, init=centers)\n",
    "    mbk.fit(Y)  # Compute K-mean\n",
    "    ms = mbk.labels_\n",
    "    \n",
    "    cluster1 = X[np.where(ms==0)]\n",
    "    cluster2 = X[np.where(ms==1)]\n",
    "    cluster3 = X[np.where(ms==2)]\n",
    "    \n",
    "    mc1 = np.mean(cluster1, axis=0)\n",
    "    mc2 = np.mean(cluster2, axis=0)\n",
    "    mc3 = np.mean(cluster3, axis=0)\n",
    "    \n",
    "    #center of class normalize\n",
    "    d1 = 100*(np.divide(np.subtract(mc1, me), me))\n",
    "    d2 = 100*(np.divide(np.subtract(mc2, me), me))\n",
    "    d3 = 100*(np.divide(np.subtract(mc3, me), me))\n",
    "    \n",
    "    \n",
    "    print(\"delta1:\", d1, \"#element:\", cluster1.shape[0]) \n",
    "    print(\"delta2:\", d2, \"#element:\", cluster2.shape[0])\n",
    "    print(\"delta3:\", d3, \"#element:\", cluster3.shape[0]) \n",
    "    print(\"inertia:\", mbk.inertia_) # сумма квадратных ошибок чем меньше чем лучше\n",
    "    cont_tb = contingency_matrix(labels_true=y, labels_pred=ms) #Как на самом деле (строки) и как мой алгоритм (столбцы) \n",
    "    print(cont_tb)\n",
    "    \n",
    "    print(\" \")"
   ]
  },
  {
   "cell_type": "code",
   "execution_count": 14,
   "metadata": {},
   "outputs": [
    {
     "name": "stdout",
     "output_type": "stream",
     "text": [
      "delta1: [ -2.39 -42.92 126.96 126.96  12.55  15.43] #element: 356\n",
      "delta2: [  1.32  23.8  -70.4  -70.4   -6.96  -8.56] #element: 642\n",
      "delta3: [nan nan nan nan nan nan] #element: 0\n",
      "inertia: 120.17489454585954\n",
      "[[141 270]\n",
      " [215 372]]\n",
      "center: \n",
      "[[ 0.   -0.    0.35  0.35  0.01  0.02]\n",
      " [ 0.   -0.   -0.23 -0.23 -0.02  0.01]]\n",
      "\n",
      " \n",
      "delta1: [ -8.23 -43.63 128.66 128.66  12.27  11.56] #element: 350\n",
      "delta2: [  4.44  23.57 -69.49 -69.49  -6.63  -6.24] #element: 648\n",
      "delta3: [nan nan nan nan nan nan] #element: 0\n",
      "inertia: 118.32526561879196\n",
      "[[139 272]\n",
      " [211 376]]\n",
      "center: \n",
      "[[-0.02 -0.01  0.39  0.39  0.02 -0.01]\n",
      " [ 0.    0.01 -0.22 -0.22 -0.   -0.  ]]\n",
      "\n",
      " \n",
      "delta1: [ -3.49 -42.53 138.92 138.92  10.57  15.04] #element: 317\n",
      "delta2: [  1.62  19.8  -64.66 -64.66  -4.92  -7.  ] #element: 681\n",
      "delta3: [nan nan nan nan nan nan] #element: 0\n",
      "inertia: 118.08119829156618\n",
      "[[123 288]\n",
      " [194 393]]\n",
      "center: \n",
      "[[-0.02 -0.01  0.45  0.45 -0.   -0.  ]\n",
      " [ 0.    0.   -0.2  -0.2  -0.01 -0.01]]\n",
      "\n",
      " \n",
      "delta1: [ -2.19 -42.91 127.28 127.28  11.11  10.93] #element: 355\n",
      "delta2: [  1.21  23.69 -70.27 -70.27  -6.13  -6.04] #element: 643\n",
      "delta3: [nan nan nan nan nan nan] #element: 0\n",
      "inertia: 118.60747928308028\n",
      "[[140 271]\n",
      " [215 372]]\n",
      "center: \n",
      "[[-0.   -0.01  0.37  0.37  0.02  0.  ]\n",
      " [-0.01  0.   -0.21 -0.21 -0.01 -0.  ]]\n",
      "\n",
      " \n",
      "delta1: [ -3.84 -43.36 127.55 127.55  11.3   11.18] #element: 354\n",
      "delta2: [  2.11  23.83 -70.11 -70.11  -6.21  -6.15] #element: 644\n",
      "delta3: [nan nan nan nan nan nan] #element: 0\n",
      "inertia: 119.54473205862813\n",
      "[[140 271]\n",
      " [214 373]]\n",
      "center: \n",
      "[[ 0.01 -0.    0.4   0.4   0.01  0.01]\n",
      " [ 0.03  0.   -0.24 -0.24 -0.02 -0.  ]]\n",
      "\n",
      " \n",
      "delta1: [ -3.49 -42.53 138.92 138.92  10.57  15.04] #element: 317\n",
      "delta2: [  1.62  19.8  -64.66 -64.66  -4.92  -7.  ] #element: 681\n",
      "delta3: [nan nan nan nan nan nan] #element: 0\n",
      "inertia: 117.90975419426391\n",
      "[[123 288]\n",
      " [194 393]]\n",
      "center: \n",
      "[[ 0.01 -0.    0.41  0.41  0.02 -0.01]\n",
      " [ 0.    0.   -0.2  -0.2   0.    0.01]]\n",
      "\n",
      " \n",
      "delta1: [ -3.49 -42.53 138.92 138.92  10.57  15.04] #element: 317\n",
      "delta2: [  1.62  19.8  -64.66 -64.66  -4.92  -7.  ] #element: 681\n",
      "delta3: [nan nan nan nan nan nan] #element: 0\n",
      "inertia: 118.20706774932727\n",
      "[[123 288]\n",
      " [194 393]]\n",
      "center: \n",
      "[[-0.   -0.    0.45  0.45  0.02  0.02]\n",
      " [-0.01  0.   -0.2  -0.2  -0.01 -0.01]]\n",
      "\n",
      " \n",
      "delta1: [ -1.92 -41.7  150.03 150.03   2.92  14.52] #element: 283\n",
      "delta2: [  0.76  16.5  -59.38 -59.38  -1.16  -5.75] #element: 715\n",
      "delta3: [nan nan nan nan nan nan] #element: 0\n",
      "inertia: 120.96627919734003\n",
      "[[111 300]\n",
      " [172 415]]\n",
      "center: \n",
      "[[ 0.   -0.    0.51  0.51  0.01 -0.01]\n",
      " [ 0.03  0.   -0.18 -0.18 -0.01  0.01]]\n",
      "\n",
      " \n",
      "delta1: [ -3.49 -42.53 138.92 138.92  10.57  15.04] #element: 317\n",
      "delta2: [  1.62  19.8  -64.66 -64.66  -4.92  -7.  ] #element: 681\n",
      "delta3: [nan nan nan nan nan nan] #element: 0\n",
      "inertia: 118.0796532965835\n",
      "[[123 288]\n",
      " [194 393]]\n",
      "center: \n",
      "[[ 0.   -0.    0.41  0.41 -0.01  0.  ]\n",
      " [ 0.01 -0.   -0.18 -0.18  0.01 -0.  ]]\n",
      "\n",
      " \n"
     ]
    }
   ],
   "source": [
    "for i in range(9):\n",
    "    \n",
    "    mbk = MiniBatchKMeans(n_clusters=n_clusters, batch_size=batch_size, init=centers)\n",
    "    mbk.fit(Y)  # Compute K-mean\n",
    "    ms = mbk.labels_\n",
    "    centers = mbk.cluster_centers_\n",
    "    \n",
    "    cluster1 = X[np.where(ms==0)]\n",
    "    cluster2 = X[np.where(ms==1)]\n",
    "    cluster3 = X[np.where(ms==2)]\n",
    "    \n",
    "    mc1 = np.mean(cluster1, axis=0)\n",
    "    mc2 = np.mean(cluster2, axis=0)\n",
    "    mc3 = np.mean(cluster3, axis=0)\n",
    "    \n",
    "    #center of class normalize\n",
    "    d1 = 100*(np.divide(np.subtract(mc1, me), me))\n",
    "    d2 = 100*(np.divide(np.subtract(mc2, me), me))\n",
    "    d3 = 100*(np.divide(np.subtract(mc3, me), me))\n",
    "    \n",
    "    \n",
    "    print(\"delta1:\", d1, \"#element:\", cluster1.shape[0]) \n",
    "    print(\"delta2:\", d2, \"#element:\", cluster2.shape[0])\n",
    "    print(\"delta3:\", d3, \"#element:\", cluster3.shape[0]) \n",
    "    print(\"inertia:\", mbk.inertia_) # сумма квадратных ошибок чем меньше чем лучше\n",
    "    cont_tb = contingency_matrix(labels_true=y, labels_pred=ms) #Как на самом деле (строки) и как мой алгоритм (столбцы) \n",
    "    print(cont_tb)\n",
    "    print(f\"center: \\n{centers}\")\n",
    "    print()\n",
    "    \n",
    "    print(\" \")"
   ]
  },
  {
   "cell_type": "code",
   "execution_count": null,
   "metadata": {},
   "outputs": [],
   "source": []
  }
 ],
 "metadata": {
  "kernelspec": {
   "display_name": "Python 3",
   "language": "python",
   "name": "python3"
  },
  "language_info": {
   "codemirror_mode": {
    "name": "ipython",
    "version": 3
   },
   "file_extension": ".py",
   "mimetype": "text/x-python",
   "name": "python",
   "nbconvert_exporter": "python",
   "pygments_lexer": "ipython3",
   "version": "3.7.3"
  }
 },
 "nbformat": 4,
 "nbformat_minor": 2
}
